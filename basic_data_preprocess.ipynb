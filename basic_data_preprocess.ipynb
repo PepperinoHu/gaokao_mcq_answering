{
 "metadata": {
  "language_info": {
   "codemirror_mode": {
    "name": "ipython",
    "version": 3
   },
   "file_extension": ".py",
   "mimetype": "text/x-python",
   "name": "python",
   "nbconvert_exporter": "python",
   "pygments_lexer": "ipython3",
   "version": "3.9.1-final"
  },
  "orig_nbformat": 2,
  "kernelspec": {
   "name": "python3",
   "display_name": "Python 3.9.1 64-bit",
   "metadata": {
    "interpreter": {
     "hash": "46be4515178f7fa5b6715b984804b00918b5181a0e3d72891a8dc4ff728ede02"
    }
   }
  }
 },
 "nbformat": 4,
 "nbformat_minor": 2,
 "cells": [
  {
   "cell_type": "code",
   "execution_count": 2,
   "metadata": {},
   "outputs": [],
   "source": [
    "import pandas as pd\n",
    "import re"
   ]
  },
  {
   "source": [
    "Down below is the basic preprocessing of parsing the raw texts of the questions"
   ],
   "cell_type": "markdown",
   "metadata": {}
  },
  {
   "cell_type": "code",
   "execution_count": 2,
   "metadata": {},
   "outputs": [
    {
     "output_type": "execute_result",
     "data": {
      "text/plain": [
       "Empty DataFrame\n",
       "Columns: [question, A, B, C, D, Answer]\n",
       "Index: []"
      ],
      "text/html": "<div>\n<style scoped>\n    .dataframe tbody tr th:only-of-type {\n        vertical-align: middle;\n    }\n\n    .dataframe tbody tr th {\n        vertical-align: top;\n    }\n\n    .dataframe thead th {\n        text-align: right;\n    }\n</style>\n<table border=\"1\" class=\"dataframe\">\n  <thead>\n    <tr style=\"text-align: right;\">\n      <th></th>\n      <th>question</th>\n      <th>A</th>\n      <th>B</th>\n      <th>C</th>\n      <th>D</th>\n      <th>Answer</th>\n    </tr>\n  </thead>\n  <tbody>\n  </tbody>\n</table>\n</div>"
     },
     "metadata": {},
     "execution_count": 2
    }
   ],
   "source": [
    "data_df = pd.DataFrame(columns=['question','A','B','C','D','Answer'])\n",
    "data_df"
   ]
  },
  {
   "cell_type": "code",
   "execution_count": 3,
   "metadata": {},
   "outputs": [],
   "source": [
    "version_num = 10"
   ]
  },
  {
   "cell_type": "code",
   "execution_count": 4,
   "metadata": {},
   "outputs": [
    {
     "output_type": "execute_result",
     "data": {
      "text/plain": [
       "                                             question                      A  \\\n",
       "0   Could I ask you a rather personal question?   ...  Yes, don't worry.       \n",
       "1   Teaching _______ child to cook will improve ma...                /;the     \n",
       "2   If your wages are small, they'll be free _____...                with      \n",
       "3   Liu Dehua has set up a new record, that is, th...          have reached    \n",
       "4   The seller would sell the skirt for fifty doll...               asked      \n",
       "..                                                ...                    ...   \n",
       "70  Della turned all of her pockets inside out onl...        with what to      \n",
       "71  Whether we are out to set a new record ourselv...             makes of     \n",
       "72               Honesty is ________ he is born with.                  that    \n",
       "73  The __________ question for him is to ________...   remaining; find out    \n",
       "74  ________ the people have become masters of the...            Only then     \n",
       "\n",
       "                       B                        C                    D Answer  \n",
       "0   Of course, go ahead.  Yes, help yourself.      Of course, why not?      B  \n",
       "1                  a;/                    a;the                  the;a      B  \n",
       "2               about                       to                      of      D  \n",
       "3           has reached             are reaching           is reaching      A  \n",
       "4              charged                    sold                 offered      D  \n",
       "..                   ...                      ...                  ...    ...  \n",
       "70   with which she can            in which to          with which to       D  \n",
       "71          makes from                makes for             makes into      C  \n",
       "72                which                     what                  when      C  \n",
       "73   remained; find out         remaining; find     remained; look for      A  \n",
       "74      It is only when               Only when        It is only then      B  \n",
       "\n",
       "[75 rows x 6 columns]"
      ],
      "text/html": "<div>\n<style scoped>\n    .dataframe tbody tr th:only-of-type {\n        vertical-align: middle;\n    }\n\n    .dataframe tbody tr th {\n        vertical-align: top;\n    }\n\n    .dataframe thead th {\n        text-align: right;\n    }\n</style>\n<table border=\"1\" class=\"dataframe\">\n  <thead>\n    <tr style=\"text-align: right;\">\n      <th></th>\n      <th>question</th>\n      <th>A</th>\n      <th>B</th>\n      <th>C</th>\n      <th>D</th>\n      <th>Answer</th>\n    </tr>\n  </thead>\n  <tbody>\n    <tr>\n      <th>0</th>\n      <td>Could I ask you a rather personal question?   ...</td>\n      <td>Yes, don't worry.</td>\n      <td>Of course, go ahead.</td>\n      <td>Yes, help yourself.</td>\n      <td>Of course, why not?</td>\n      <td>B</td>\n    </tr>\n    <tr>\n      <th>1</th>\n      <td>Teaching _______ child to cook will improve ma...</td>\n      <td>/;the</td>\n      <td>a;/</td>\n      <td>a;the</td>\n      <td>the;a</td>\n      <td>B</td>\n    </tr>\n    <tr>\n      <th>2</th>\n      <td>If your wages are small, they'll be free _____...</td>\n      <td>with</td>\n      <td>about</td>\n      <td>to</td>\n      <td>of</td>\n      <td>D</td>\n    </tr>\n    <tr>\n      <th>3</th>\n      <td>Liu Dehua has set up a new record, that is, th...</td>\n      <td>have reached</td>\n      <td>has reached</td>\n      <td>are reaching</td>\n      <td>is reaching</td>\n      <td>A</td>\n    </tr>\n    <tr>\n      <th>4</th>\n      <td>The seller would sell the skirt for fifty doll...</td>\n      <td>asked</td>\n      <td>charged</td>\n      <td>sold</td>\n      <td>offered</td>\n      <td>D</td>\n    </tr>\n    <tr>\n      <th>...</th>\n      <td>...</td>\n      <td>...</td>\n      <td>...</td>\n      <td>...</td>\n      <td>...</td>\n      <td>...</td>\n    </tr>\n    <tr>\n      <th>70</th>\n      <td>Della turned all of her pockets inside out onl...</td>\n      <td>with what to</td>\n      <td>with which she can</td>\n      <td>in which to</td>\n      <td>with which to</td>\n      <td>D</td>\n    </tr>\n    <tr>\n      <th>71</th>\n      <td>Whether we are out to set a new record ourselv...</td>\n      <td>makes of</td>\n      <td>makes from</td>\n      <td>makes for</td>\n      <td>makes into</td>\n      <td>C</td>\n    </tr>\n    <tr>\n      <th>72</th>\n      <td>Honesty is ________ he is born with.</td>\n      <td>that</td>\n      <td>which</td>\n      <td>what</td>\n      <td>when</td>\n      <td>C</td>\n    </tr>\n    <tr>\n      <th>73</th>\n      <td>The __________ question for him is to ________...</td>\n      <td>remaining; find out</td>\n      <td>remained; find out</td>\n      <td>remaining; find</td>\n      <td>remained; look for</td>\n      <td>A</td>\n    </tr>\n    <tr>\n      <th>74</th>\n      <td>________ the people have become masters of the...</td>\n      <td>Only then</td>\n      <td>It is only when</td>\n      <td>Only when</td>\n      <td>It is only then</td>\n      <td>B</td>\n    </tr>\n  </tbody>\n</table>\n<p>75 rows × 6 columns</p>\n</div>"
     },
     "metadata": {},
     "execution_count": 4
    }
   ],
   "source": [
    "regex_1 = '(([0-9]{1,2}\\.\\s*)(.+))'\n",
    "regex_2 = '(\\s*.*(A\\s*\\.\\s*)(.+)(B\\s*\\.\\s*)(.+)(C\\s*\\.\\s*)(.+)(D\\s*\\.\\s*)(.+))'\n",
    "question_text = ''\n",
    "A = '';B='';C='';D=''\n",
    "f = open(r\"D:\\Hu Jiaoyang Files\\UM\\21WINTER\\630\\project\\Data\\baidu wenku\\10.txt\", \"r\", encoding='UTF-8')\n",
    "answer_line = f.readline()\n",
    "answers = ''\n",
    "for char in answer_line.split():\n",
    "    answers += char\n",
    "for i in range(len(answers)):\n",
    "    question_text_original = f.readline()\n",
    "    question_text_original = question_text_original.replace('-','')\n",
    "    match_object = re.search(regex_1,question_text_original)\n",
    "    if match_object:\n",
    "        question_text = match_object.group(3)\n",
    "    answer_txt_original = f.readline()\n",
    "    match_object = re.search(regex_2,answer_txt_original)\n",
    "    if match_object:\n",
    "        A = match_object.group(3)\n",
    "        B = match_object.group(5)\n",
    "        C = match_object.group(7)\n",
    "        D = match_object.group(9)\n",
    "\n",
    "    data_df.loc[len(data_df)] = [question_text,A,B,C,D,answers[i]]\n",
    "f.close()\n",
    "data_df"
   ]
  },
  {
   "cell_type": "code",
   "execution_count": 5,
   "metadata": {},
   "outputs": [],
   "source": [
    "data_df.to_csv(str(version_num)+\".csv\",index=False)"
   ]
  },
  {
   "source": [
    "Down below is reading the processed data and merging them into one full csv"
   ],
   "cell_type": "markdown",
   "metadata": {}
  },
  {
   "cell_type": "code",
   "execution_count": 3,
   "metadata": {},
   "outputs": [
    {
     "output_type": "execute_result",
     "data": {
      "text/plain": [
       "                                              question                      A  \\\n",
       "0     I can't remember _____________ made the teach...   that it was what       \n",
       "1       He let out an ______________ cry, \"we've won!\"        excited           \n",
       "2     Is football John's favourite sport? Yes. ____...        Near to           \n",
       "3     Do you think regular exercise ___________ goo...     benefit from         \n",
       "4     Have you applied ___________ Mr Black _______...      for; to             \n",
       "..                                                 ...                    ...   \n",
       "482  ____ my surprise, ____ I could have a word wit...         In; before       \n",
       "483   Please put the books back ________ you can fi...           which          \n",
       "484   On their way home the couple found the neckla...         miss             \n",
       "485   So far no letter ________ me, which makes me ...           reached        \n",
       "486   To make your voice _______, you should talk a...         hear             \n",
       "\n",
       "                         B                      C                  D Answer  \n",
       "0     what it was that       what was it that       that was it what      B  \n",
       "1          exciting                excite                    excites      A  \n",
       "2           Except                  Beside                   Next to      D  \n",
       "3         reach for                make for                   go for      C  \n",
       "4        with; for              with; about                  to; for      D  \n",
       "..                     ...                    ...                ...    ...  \n",
       "482       To; before                    In; when           To; since      B  \n",
       "483   where                          to which               in which      B  \n",
       "484   missing                 missed                         to miss      B  \n",
       "485     heard from              has reached           has heard from      C  \n",
       "486   hearing                to hear                           heard      D  \n",
       "\n",
       "[487 rows x 6 columns]"
      ],
      "text/html": "<div>\n<style scoped>\n    .dataframe tbody tr th:only-of-type {\n        vertical-align: middle;\n    }\n\n    .dataframe tbody tr th {\n        vertical-align: top;\n    }\n\n    .dataframe thead th {\n        text-align: right;\n    }\n</style>\n<table border=\"1\" class=\"dataframe\">\n  <thead>\n    <tr style=\"text-align: right;\">\n      <th></th>\n      <th>question</th>\n      <th>A</th>\n      <th>B</th>\n      <th>C</th>\n      <th>D</th>\n      <th>Answer</th>\n    </tr>\n  </thead>\n  <tbody>\n    <tr>\n      <th>0</th>\n      <td>I can't remember _____________ made the teach...</td>\n      <td>that it was what</td>\n      <td>what it was that</td>\n      <td>what was it that</td>\n      <td>that was it what</td>\n      <td>B</td>\n    </tr>\n    <tr>\n      <th>1</th>\n      <td>He let out an ______________ cry, \"we've won!\"</td>\n      <td>excited</td>\n      <td>exciting</td>\n      <td>excite</td>\n      <td>excites</td>\n      <td>A</td>\n    </tr>\n    <tr>\n      <th>2</th>\n      <td>Is football John's favourite sport? Yes. ____...</td>\n      <td>Near to</td>\n      <td>Except</td>\n      <td>Beside</td>\n      <td>Next to</td>\n      <td>D</td>\n    </tr>\n    <tr>\n      <th>3</th>\n      <td>Do you think regular exercise ___________ goo...</td>\n      <td>benefit from</td>\n      <td>reach for</td>\n      <td>make for</td>\n      <td>go for</td>\n      <td>C</td>\n    </tr>\n    <tr>\n      <th>4</th>\n      <td>Have you applied ___________ Mr Black _______...</td>\n      <td>for; to</td>\n      <td>with; for</td>\n      <td>with; about</td>\n      <td>to; for</td>\n      <td>D</td>\n    </tr>\n    <tr>\n      <th>...</th>\n      <td>...</td>\n      <td>...</td>\n      <td>...</td>\n      <td>...</td>\n      <td>...</td>\n      <td>...</td>\n    </tr>\n    <tr>\n      <th>482</th>\n      <td>____ my surprise, ____ I could have a word wit...</td>\n      <td>In; before</td>\n      <td>To; before</td>\n      <td>In; when</td>\n      <td>To; since</td>\n      <td>B</td>\n    </tr>\n    <tr>\n      <th>483</th>\n      <td>Please put the books back ________ you can fi...</td>\n      <td>which</td>\n      <td>where</td>\n      <td>to which</td>\n      <td>in which</td>\n      <td>B</td>\n    </tr>\n    <tr>\n      <th>484</th>\n      <td>On their way home the couple found the neckla...</td>\n      <td>miss</td>\n      <td>missing</td>\n      <td>missed</td>\n      <td>to miss</td>\n      <td>B</td>\n    </tr>\n    <tr>\n      <th>485</th>\n      <td>So far no letter ________ me, which makes me ...</td>\n      <td>reached</td>\n      <td>heard from</td>\n      <td>has reached</td>\n      <td>has heard from</td>\n      <td>C</td>\n    </tr>\n    <tr>\n      <th>486</th>\n      <td>To make your voice _______, you should talk a...</td>\n      <td>hear</td>\n      <td>hearing</td>\n      <td>to hear</td>\n      <td>heard</td>\n      <td>D</td>\n    </tr>\n  </tbody>\n</table>\n<p>487 rows × 6 columns</p>\n</div>"
     },
     "metadata": {},
     "execution_count": 3
    }
   ],
   "source": [
    "data_df = pd.DataFrame(columns=['question','A','B','C','D','Answer'])\n",
    "for i in range(1,13):\n",
    "    if i ==6:\n",
    "        continue\n",
    "    df = pd.read_csv(str(i)+\".csv\")\n",
    "    data_df = pd.concat([data_df, df], ignore_index=True)\n",
    "data_df"
   ]
  },
  {
   "cell_type": "code",
   "execution_count": 4,
   "metadata": {},
   "outputs": [],
   "source": [
    "data_df.to_csv(\"gaokaonet.csv\",index=False)"
   ]
  },
  {
   "cell_type": "code",
   "execution_count": 4,
   "metadata": {},
   "outputs": [
    {
     "output_type": "execute_result",
     "data": {
      "text/plain": [
       "                                            question                      A  \\\n",
       "0   I can't remember _____________ made the teach...   that it was what       \n",
       "1     He let out an ______________ cry, \"we've won!\"        excited           \n",
       "2   Is football John's favourite sport? Yes. ____...        Near to           \n",
       "3   Do you think regular exercise ___________ goo...     benefit from         \n",
       "4   Have you applied ___________ Mr Black _______...      for; to             \n",
       "\n",
       "                       B                      C                  D Answer  \n",
       "0   what it was that       what was it that       that was it what      B  \n",
       "1        exciting                excite                    excites      A  \n",
       "2         Except                  Beside                   Next to      D  \n",
       "3       reach for                make for                   go for      C  \n",
       "4      with; for              with; about                  to; for      D  "
      ],
      "text/html": "<div>\n<style scoped>\n    .dataframe tbody tr th:only-of-type {\n        vertical-align: middle;\n    }\n\n    .dataframe tbody tr th {\n        vertical-align: top;\n    }\n\n    .dataframe thead th {\n        text-align: right;\n    }\n</style>\n<table border=\"1\" class=\"dataframe\">\n  <thead>\n    <tr style=\"text-align: right;\">\n      <th></th>\n      <th>question</th>\n      <th>A</th>\n      <th>B</th>\n      <th>C</th>\n      <th>D</th>\n      <th>Answer</th>\n    </tr>\n  </thead>\n  <tbody>\n    <tr>\n      <th>0</th>\n      <td>I can't remember _____________ made the teach...</td>\n      <td>that it was what</td>\n      <td>what it was that</td>\n      <td>what was it that</td>\n      <td>that was it what</td>\n      <td>B</td>\n    </tr>\n    <tr>\n      <th>1</th>\n      <td>He let out an ______________ cry, \"we've won!\"</td>\n      <td>excited</td>\n      <td>exciting</td>\n      <td>excite</td>\n      <td>excites</td>\n      <td>A</td>\n    </tr>\n    <tr>\n      <th>2</th>\n      <td>Is football John's favourite sport? Yes. ____...</td>\n      <td>Near to</td>\n      <td>Except</td>\n      <td>Beside</td>\n      <td>Next to</td>\n      <td>D</td>\n    </tr>\n    <tr>\n      <th>3</th>\n      <td>Do you think regular exercise ___________ goo...</td>\n      <td>benefit from</td>\n      <td>reach for</td>\n      <td>make for</td>\n      <td>go for</td>\n      <td>C</td>\n    </tr>\n    <tr>\n      <th>4</th>\n      <td>Have you applied ___________ Mr Black _______...</td>\n      <td>for; to</td>\n      <td>with; for</td>\n      <td>with; about</td>\n      <td>to; for</td>\n      <td>D</td>\n    </tr>\n  </tbody>\n</table>\n</div>"
     },
     "metadata": {},
     "execution_count": 4
    }
   ],
   "source": [
    "gaokaonet_df = pd.read_csv(\"gaokaonet.csv\")\n",
    "gaokaonet_df.head()"
   ]
  },
  {
   "cell_type": "code",
   "execution_count": 5,
   "metadata": {},
   "outputs": [
    {
     "output_type": "execute_result",
     "data": {
      "text/plain": [
       "                                            question  \\\n",
       "0   Unfortunately, when I dropped in, Doctor Li _...   \n",
       "1  He hasn't come yet.What do you consider ______...   \n",
       "2   ______ is known to us all is that China has l...   \n",
       "3    You've made great progress in your studies o...   \n",
       "4   ______ that the South African writer John Coe...   \n",
       "\n",
       "                             A                      B  \\\n",
       "0           just left             has just left         \n",
       "1               happens           has happened          \n",
       "2                 That                What              \n",
       "3       remains to do            is remained to do      \n",
       "4   They're reported                  He's reported     \n",
       "\n",
       "                                 C                        D Answer  \n",
       "0           is just leaving               was just leaving       D  \n",
       "1               happening                        to happen       B  \n",
       "2                    It                                  As      B  \n",
       "3   remains to be done               is remained to be done      C  \n",
       "4        We're reported                       It's reported      D  "
      ],
      "text/html": "<div>\n<style scoped>\n    .dataframe tbody tr th:only-of-type {\n        vertical-align: middle;\n    }\n\n    .dataframe tbody tr th {\n        vertical-align: top;\n    }\n\n    .dataframe thead th {\n        text-align: right;\n    }\n</style>\n<table border=\"1\" class=\"dataframe\">\n  <thead>\n    <tr style=\"text-align: right;\">\n      <th></th>\n      <th>question</th>\n      <th>A</th>\n      <th>B</th>\n      <th>C</th>\n      <th>D</th>\n      <th>Answer</th>\n    </tr>\n  </thead>\n  <tbody>\n    <tr>\n      <th>0</th>\n      <td>Unfortunately, when I dropped in, Doctor Li _...</td>\n      <td>just left</td>\n      <td>has just left</td>\n      <td>is just leaving</td>\n      <td>was just leaving</td>\n      <td>D</td>\n    </tr>\n    <tr>\n      <th>1</th>\n      <td>He hasn't come yet.What do you consider ______...</td>\n      <td>happens</td>\n      <td>has happened</td>\n      <td>happening</td>\n      <td>to happen</td>\n      <td>B</td>\n    </tr>\n    <tr>\n      <th>2</th>\n      <td>______ is known to us all is that China has l...</td>\n      <td>That</td>\n      <td>What</td>\n      <td>It</td>\n      <td>As</td>\n      <td>B</td>\n    </tr>\n    <tr>\n      <th>3</th>\n      <td>You've made great progress in your studies o...</td>\n      <td>remains to do</td>\n      <td>is remained to do</td>\n      <td>remains to be done</td>\n      <td>is remained to be done</td>\n      <td>C</td>\n    </tr>\n    <tr>\n      <th>4</th>\n      <td>______ that the South African writer John Coe...</td>\n      <td>They're reported</td>\n      <td>He's reported</td>\n      <td>We're reported</td>\n      <td>It's reported</td>\n      <td>D</td>\n    </tr>\n  </tbody>\n</table>\n</div>"
     },
     "metadata": {},
     "execution_count": 5
    }
   ],
   "source": [
    "wenku_df = pd.read_csv(\"wenku.csv\")\n",
    "wenku_df.head()"
   ]
  },
  {
   "cell_type": "code",
   "execution_count": 6,
   "metadata": {},
   "outputs": [
    {
     "output_type": "execute_result",
     "data": {
      "text/plain": [
       "                                               question  \\\n",
       "0      I can't remember _____________ made the teach...   \n",
       "1        He let out an ______________ cry, \"we've won!\"   \n",
       "2      Is football John's favourite sport? Yes. ____...   \n",
       "3      Do you think regular exercise ___________ goo...   \n",
       "4      Have you applied ___________ Mr Black _______...   \n",
       "...                                                 ...   \n",
       "1178  Della turned all of her pockets inside out onl...   \n",
       "1179  Whether we are out to set a new record ourselv...   \n",
       "1180               Honesty is ________ he is born with.   \n",
       "1181  The __________ question for him is to ________...   \n",
       "1182  ________ the people have become masters of the...   \n",
       "\n",
       "                          A                      B                      C  \\\n",
       "0      that it was what       what it was that       what was it that       \n",
       "1           excited                exciting                excite           \n",
       "2           Near to                 Except                  Beside          \n",
       "3        benefit from             reach for                make for         \n",
       "4         for; to                with; for              with; about         \n",
       "...                     ...                    ...                    ...   \n",
       "1178        with what to       with which she can          in which to      \n",
       "1179             makes of             makes from              makes for     \n",
       "1180                  that                  which                   what    \n",
       "1181   remaining; find out     remained; find out       remaining; find     \n",
       "1182            Only then         It is only when             Only when     \n",
       "\n",
       "                       D Answer  \n",
       "0       that was it what      B  \n",
       "1                excites      A  \n",
       "2                Next to      D  \n",
       "3                 go for      C  \n",
       "4                to; for      D  \n",
       "...                  ...    ...  \n",
       "1178      with which to       D  \n",
       "1179          makes into      C  \n",
       "1180                when      C  \n",
       "1181  remained; look for      A  \n",
       "1182     It is only then      B  \n",
       "\n",
       "[1183 rows x 6 columns]"
      ],
      "text/html": "<div>\n<style scoped>\n    .dataframe tbody tr th:only-of-type {\n        vertical-align: middle;\n    }\n\n    .dataframe tbody tr th {\n        vertical-align: top;\n    }\n\n    .dataframe thead th {\n        text-align: right;\n    }\n</style>\n<table border=\"1\" class=\"dataframe\">\n  <thead>\n    <tr style=\"text-align: right;\">\n      <th></th>\n      <th>question</th>\n      <th>A</th>\n      <th>B</th>\n      <th>C</th>\n      <th>D</th>\n      <th>Answer</th>\n    </tr>\n  </thead>\n  <tbody>\n    <tr>\n      <th>0</th>\n      <td>I can't remember _____________ made the teach...</td>\n      <td>that it was what</td>\n      <td>what it was that</td>\n      <td>what was it that</td>\n      <td>that was it what</td>\n      <td>B</td>\n    </tr>\n    <tr>\n      <th>1</th>\n      <td>He let out an ______________ cry, \"we've won!\"</td>\n      <td>excited</td>\n      <td>exciting</td>\n      <td>excite</td>\n      <td>excites</td>\n      <td>A</td>\n    </tr>\n    <tr>\n      <th>2</th>\n      <td>Is football John's favourite sport? Yes. ____...</td>\n      <td>Near to</td>\n      <td>Except</td>\n      <td>Beside</td>\n      <td>Next to</td>\n      <td>D</td>\n    </tr>\n    <tr>\n      <th>3</th>\n      <td>Do you think regular exercise ___________ goo...</td>\n      <td>benefit from</td>\n      <td>reach for</td>\n      <td>make for</td>\n      <td>go for</td>\n      <td>C</td>\n    </tr>\n    <tr>\n      <th>4</th>\n      <td>Have you applied ___________ Mr Black _______...</td>\n      <td>for; to</td>\n      <td>with; for</td>\n      <td>with; about</td>\n      <td>to; for</td>\n      <td>D</td>\n    </tr>\n    <tr>\n      <th>...</th>\n      <td>...</td>\n      <td>...</td>\n      <td>...</td>\n      <td>...</td>\n      <td>...</td>\n      <td>...</td>\n    </tr>\n    <tr>\n      <th>1178</th>\n      <td>Della turned all of her pockets inside out onl...</td>\n      <td>with what to</td>\n      <td>with which she can</td>\n      <td>in which to</td>\n      <td>with which to</td>\n      <td>D</td>\n    </tr>\n    <tr>\n      <th>1179</th>\n      <td>Whether we are out to set a new record ourselv...</td>\n      <td>makes of</td>\n      <td>makes from</td>\n      <td>makes for</td>\n      <td>makes into</td>\n      <td>C</td>\n    </tr>\n    <tr>\n      <th>1180</th>\n      <td>Honesty is ________ he is born with.</td>\n      <td>that</td>\n      <td>which</td>\n      <td>what</td>\n      <td>when</td>\n      <td>C</td>\n    </tr>\n    <tr>\n      <th>1181</th>\n      <td>The __________ question for him is to ________...</td>\n      <td>remaining; find out</td>\n      <td>remained; find out</td>\n      <td>remaining; find</td>\n      <td>remained; look for</td>\n      <td>A</td>\n    </tr>\n    <tr>\n      <th>1182</th>\n      <td>________ the people have become masters of the...</td>\n      <td>Only then</td>\n      <td>It is only when</td>\n      <td>Only when</td>\n      <td>It is only then</td>\n      <td>B</td>\n    </tr>\n  </tbody>\n</table>\n<p>1183 rows × 6 columns</p>\n</div>"
     },
     "metadata": {},
     "execution_count": 6
    }
   ],
   "source": [
    "data_df = pd.concat([gaokaonet_df, wenku_df], ignore_index=True)\n",
    "data_df"
   ]
  },
  {
   "cell_type": "code",
   "execution_count": 7,
   "metadata": {},
   "outputs": [],
   "source": [
    "data_df.to_csv(\"data.csv\",index=False)"
   ]
  },
  {
   "source": [],
   "cell_type": "markdown",
   "metadata": {}
  }
 ]
}