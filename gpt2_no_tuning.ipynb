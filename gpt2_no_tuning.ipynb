{
 "metadata": {
  "language_info": {
   "codemirror_mode": {
    "name": "ipython",
    "version": 3
   },
   "file_extension": ".py",
   "mimetype": "text/x-python",
   "name": "python",
   "nbconvert_exporter": "python",
   "pygments_lexer": "ipython3",
   "version": "3.9.1"
  },
  "orig_nbformat": 2,
  "kernelspec": {
   "name": "python391jvsc74a57bd046be4515178f7fa5b6715b984804b00918b5181a0e3d72891a8dc4ff728ede02",
   "display_name": "Python 3.9.1 64-bit"
  },
  "metadata": {
   "interpreter": {
    "hash": "46be4515178f7fa5b6715b984804b00918b5181a0e3d72891a8dc4ff728ede02"
   }
  }
 },
 "nbformat": 4,
 "nbformat_minor": 2,
 "cells": [
  {
   "cell_type": "code",
   "execution_count": 1,
   "metadata": {},
   "outputs": [
    {
     "output_type": "execute_result",
     "data": {
      "text/plain": [
       "                                            question                      A  \\\n",
       "0   I can't remember _____________ made the teach...   that it was what       \n",
       "1     He let out an ______________ cry, \"we've won!\"        excited           \n",
       "2   Is football John's favourite sport? Yes. ____...        Near to           \n",
       "3   Do you think regular exercise ___________ goo...     benefit from         \n",
       "4   Have you applied ___________ Mr Black _______...      for; to             \n",
       "\n",
       "                       B                      C                  D Answer  \n",
       "0   what it was that       what was it that       that was it what      B  \n",
       "1        exciting                excite                    excites      A  \n",
       "2         Except                  Beside                   Next to      D  \n",
       "3       reach for                make for                   go for      C  \n",
       "4      with; for              with; about                  to; for      D  "
      ],
      "text/html": "<div>\n<style scoped>\n    .dataframe tbody tr th:only-of-type {\n        vertical-align: middle;\n    }\n\n    .dataframe tbody tr th {\n        vertical-align: top;\n    }\n\n    .dataframe thead th {\n        text-align: right;\n    }\n</style>\n<table border=\"1\" class=\"dataframe\">\n  <thead>\n    <tr style=\"text-align: right;\">\n      <th></th>\n      <th>question</th>\n      <th>A</th>\n      <th>B</th>\n      <th>C</th>\n      <th>D</th>\n      <th>Answer</th>\n    </tr>\n  </thead>\n  <tbody>\n    <tr>\n      <th>0</th>\n      <td>I can't remember _____________ made the teach...</td>\n      <td>that it was what</td>\n      <td>what it was that</td>\n      <td>what was it that</td>\n      <td>that was it what</td>\n      <td>B</td>\n    </tr>\n    <tr>\n      <th>1</th>\n      <td>He let out an ______________ cry, \"we've won!\"</td>\n      <td>excited</td>\n      <td>exciting</td>\n      <td>excite</td>\n      <td>excites</td>\n      <td>A</td>\n    </tr>\n    <tr>\n      <th>2</th>\n      <td>Is football John's favourite sport? Yes. ____...</td>\n      <td>Near to</td>\n      <td>Except</td>\n      <td>Beside</td>\n      <td>Next to</td>\n      <td>D</td>\n    </tr>\n    <tr>\n      <th>3</th>\n      <td>Do you think regular exercise ___________ goo...</td>\n      <td>benefit from</td>\n      <td>reach for</td>\n      <td>make for</td>\n      <td>go for</td>\n      <td>C</td>\n    </tr>\n    <tr>\n      <th>4</th>\n      <td>Have you applied ___________ Mr Black _______...</td>\n      <td>for; to</td>\n      <td>with; for</td>\n      <td>with; about</td>\n      <td>to; for</td>\n      <td>D</td>\n    </tr>\n  </tbody>\n</table>\n</div>"
     },
     "metadata": {},
     "execution_count": 1
    }
   ],
   "source": [
    "import pandas as pd \n",
    "data_df = pd.read_csv('data.csv')\n",
    "data_df.head()"
   ]
  },
  {
   "cell_type": "code",
   "execution_count": 2,
   "metadata": {},
   "outputs": [],
   "source": [
    "import torch\n",
    "import sys\n",
    "import numpy as np\n",
    " \n",
    "from transformers import GPT2TokenizerFast, GPT2LMHeadModel\n",
    "# Load pre-trained model (weights)\n",
    "with torch.no_grad():\n",
    "        model = GPT2LMHeadModel.from_pretrained('gpt2')\n",
    "        model.eval()\n",
    "# Load pre-trained model tokenizer (vocabulary)\n",
    "tokenizer = GPT2TokenizerFast.from_pretrained('gpt2')\n",
    " \n",
    "def score(sentence):\n",
    "    tokenize_input = tokenizer.encode(sentence)\n",
    "    tensor_input = torch.tensor([tokenize_input])\n",
    "    loss=model(tensor_input, labels=tensor_input)[0]\n",
    "    return np.exp(loss.detach().numpy())"
   ]
  },
  {
   "cell_type": "code",
   "execution_count": 3,
   "metadata": {},
   "outputs": [
    {
     "output_type": "stream",
     "name": "stderr",
     "text": [
      "100%|██████████| 1183/1183 [07:17<00:00,  2.71it/s]\n"
     ]
    }
   ],
   "source": [
    "import numpy as np\n",
    "from tqdm import tqdm\n",
    "import re\n",
    "prediction_list=[]\n",
    "answer_list= []\n",
    "for i in tqdm(range(len(data_df))):\n",
    "    row = data_df.iloc[i]\n",
    "    question_original = row['question'].strip()\n",
    "    choice_list = ['A','B','C','D']\n",
    "    score_list = []\n",
    "    sentence_list = []\n",
    "\n",
    "    if ';' in row['A']:\n",
    "        try:\n",
    "            for choice in choice_list:\n",
    "                choice_split = [i.strip() for i in row[choice].split(';')]\n",
    "                if len(choice_split) == 2:\n",
    "                    question_text = re.sub('\\_+',' '+choice_split[0]+' ', question_original,1)\n",
    "                    question_text = re.sub('\\_+',' '+choice_split[1]+' ', question_text,1)\n",
    "                if len(choice_split) == 3:\n",
    "                    question_text = re.sub('\\_+',' '+choice_split[0]+' ', question_original,1)\n",
    "                    question_text = re.sub('\\_+',' '+choice_split[1]+' ', question_text,1)\n",
    "                    question_text = re.sub('\\_+',' '+choice_split[2]+' ', question_text,1)\n",
    "                sentence_list.append(question_text)\n",
    "        except:\n",
    "                print(question_original,question_text,choice_split)\n",
    "                continue\n",
    "    else:\n",
    "        sentence_list = [re.sub('\\_+',' '+row[choice].strip()+' ', question_original) for choice in choice_list]\n",
    "\n",
    "    if ('/' in row['A']+row['B']+row['C']+row['D']):\n",
    "        sentence_list = [re.sub('/','',sentence) for sentence in sentence_list]\n",
    "\n",
    "    sentence_list = [re.sub(' +',' ', sentence) for sentence in sentence_list]\n",
    "\n",
    "    for sentence in sentence_list:\n",
    "        score_list.append(score(sentence))\n",
    "    final_choice = choice_list[np.argmin(np.array(score_list))]\n",
    "    answer_list.append(final_choice)\n",
    "    if final_choice == row['Answer']:\n",
    "        prediction_list.append(1)\n",
    "    else:\n",
    "        prediction_list.append(0)"
   ]
  },
  {
   "cell_type": "code",
   "execution_count": 4,
   "metadata": {},
   "outputs": [
    {
     "output_type": "execute_result",
     "data": {
      "text/plain": [
       "0.6686390532544378"
      ]
     },
     "metadata": {},
     "execution_count": 4
    }
   ],
   "source": [
    "np.array(prediction_list).sum()/len(prediction_list)"
   ]
  },
  {
   "cell_type": "code",
   "execution_count": null,
   "metadata": {},
   "outputs": [],
   "source": []
  }
 ]
}