{
 "metadata": {
  "language_info": {
   "codemirror_mode": {
    "name": "ipython",
    "version": 3
   },
   "file_extension": ".py",
   "mimetype": "text/x-python",
   "name": "python",
   "nbconvert_exporter": "python",
   "pygments_lexer": "ipython3",
   "version": "3.9.1"
  },
  "orig_nbformat": 2,
  "kernelspec": {
   "name": "python391jvsc74a57bd046be4515178f7fa5b6715b984804b00918b5181a0e3d72891a8dc4ff728ede02",
   "display_name": "Python 3.9.1 64-bit"
  },
  "metadata": {
   "interpreter": {
    "hash": "46be4515178f7fa5b6715b984804b00918b5181a0e3d72891a8dc4ff728ede02"
   }
  }
 },
 "nbformat": 4,
 "nbformat_minor": 2,
 "cells": [
  {
   "cell_type": "code",
   "execution_count": 1,
   "metadata": {},
   "outputs": [
    {
     "output_type": "execute_result",
     "data": {
      "text/plain": [
       "                                            question                      A  \\\n",
       "0   I can't remember _____________ made the teach...   that it was what       \n",
       "1     He let out an ______________ cry, \"we've won!\"        excited           \n",
       "2   Is football John's favourite sport? Yes. ____...        Near to           \n",
       "3   Do you think regular exercise ___________ goo...     benefit from         \n",
       "4   Have you applied ___________ Mr Black _______...      for; to             \n",
       "\n",
       "                       B                      C                  D Answer  \n",
       "0   what it was that       what was it that       that was it what      B  \n",
       "1        exciting                excite                    excites      A  \n",
       "2         Except                  Beside                   Next to      D  \n",
       "3       reach for                make for                   go for      C  \n",
       "4      with; for              with; about                  to; for      D  "
      ],
      "text/html": "<div>\n<style scoped>\n    .dataframe tbody tr th:only-of-type {\n        vertical-align: middle;\n    }\n\n    .dataframe tbody tr th {\n        vertical-align: top;\n    }\n\n    .dataframe thead th {\n        text-align: right;\n    }\n</style>\n<table border=\"1\" class=\"dataframe\">\n  <thead>\n    <tr style=\"text-align: right;\">\n      <th></th>\n      <th>question</th>\n      <th>A</th>\n      <th>B</th>\n      <th>C</th>\n      <th>D</th>\n      <th>Answer</th>\n    </tr>\n  </thead>\n  <tbody>\n    <tr>\n      <th>0</th>\n      <td>I can't remember _____________ made the teach...</td>\n      <td>that it was what</td>\n      <td>what it was that</td>\n      <td>what was it that</td>\n      <td>that was it what</td>\n      <td>B</td>\n    </tr>\n    <tr>\n      <th>1</th>\n      <td>He let out an ______________ cry, \"we've won!\"</td>\n      <td>excited</td>\n      <td>exciting</td>\n      <td>excite</td>\n      <td>excites</td>\n      <td>A</td>\n    </tr>\n    <tr>\n      <th>2</th>\n      <td>Is football John's favourite sport? Yes. ____...</td>\n      <td>Near to</td>\n      <td>Except</td>\n      <td>Beside</td>\n      <td>Next to</td>\n      <td>D</td>\n    </tr>\n    <tr>\n      <th>3</th>\n      <td>Do you think regular exercise ___________ goo...</td>\n      <td>benefit from</td>\n      <td>reach for</td>\n      <td>make for</td>\n      <td>go for</td>\n      <td>C</td>\n    </tr>\n    <tr>\n      <th>4</th>\n      <td>Have you applied ___________ Mr Black _______...</td>\n      <td>for; to</td>\n      <td>with; for</td>\n      <td>with; about</td>\n      <td>to; for</td>\n      <td>D</td>\n    </tr>\n  </tbody>\n</table>\n</div>"
     },
     "metadata": {},
     "execution_count": 1
    }
   ],
   "source": [
    "import pandas as pd \n",
    "data_df = pd.read_csv('data.csv')\n",
    "data_df.head()"
   ]
  },
  {
   "source": [
    "The FitBert model is provided by https://github.com/Qordobacode/fitbert. Some code in this notebook that are used to rank options to fill the blank in the masked string are adapted from the demonstration codes from the url."
   ],
   "cell_type": "markdown",
   "metadata": {}
  },
  {
   "cell_type": "code",
   "execution_count": 2,
   "metadata": {},
   "outputs": [
    {
     "output_type": "stream",
     "name": "stdout",
     "text": [
      "device: cuda\n",
      "using model: bert-large-uncased\n",
      "Some weights of the model checkpoint at bert-large-uncased were not used when initializing BertForMaskedLM: ['cls.seq_relationship.weight', 'cls.seq_relationship.bias']\n",
      "- This IS expected if you are initializing BertForMaskedLM from the checkpoint of a model trained on another task or with another architecture (e.g. initializing a BertForSequenceClassification model from a BertForPreTraining model).\n",
      "- This IS NOT expected if you are initializing BertForMaskedLM from the checkpoint of a model that you expect to be exactly identical (initializing a BertForSequenceClassification model from a BertForSequenceClassification model).\n"
     ]
    }
   ],
   "source": [
    "from fitbert import FitBert\n",
    "import numpy as np\n",
    "from tqdm import tqdm\n",
    "import re\n",
    "choice_list = ['A','B','C','D']\n",
    "fb = FitBert()"
   ]
  },
  {
   "cell_type": "code",
   "execution_count": 3,
   "metadata": {},
   "outputs": [],
   "source": [
    "def ans_parse(choice):\n",
    "    if '/' in choice:\n",
    "        return ' '\n",
    "    else:\n",
    "        choice = choice.strip()\n",
    "        choice = re.sub(' +',' ',choice)\n",
    "        return choice.strip()"
   ]
  },
  {
   "cell_type": "code",
   "execution_count": 4,
   "metadata": {},
   "outputs": [
    {
     "output_type": "stream",
     "name": "stderr",
     "text": [
      "100%|██████████| 1183/1183 [13:07<00:00,  1.50it/s]\n"
     ]
    },
    {
     "output_type": "execute_result",
     "data": {
      "text/plain": [
       "0.7345731191885038"
      ]
     },
     "metadata": {},
     "execution_count": 4
    }
   ],
   "source": [
    "model_ans_list = []\n",
    "model_score_list = []\n",
    "model_choice = ''\n",
    "# for i in tqdm(range(1)):\n",
    "for i in tqdm(range(len( data_df ))):\n",
    "    row = data_df.iloc[i]\n",
    "    question_original = row['question'].strip()\n",
    "    \n",
    "    if ';' in row['A']:\n",
    "        try:\n",
    "            if len(row['A'].split(';')) == 2:\n",
    "                split_list = [[ans_parse(i) for i in row[choice].split(';')] for choice in choice_list]\n",
    "                masked_string_1 = re.sub('\\_+',' ***mask*** ',question_original,1)\n",
    "                options_1 = list(set( [split[0] for split in split_list] ))\n",
    "                ranked_options_1 = fb.rank(masked_string_1, options=options_1)\n",
    "                choice_1 = ' ' if (ranked_options_1[0] == '') else ranked_options_1[0]\n",
    "\n",
    "                masked_string_2 = fb.fitb(masked_string_1, options=options_1)\n",
    "                masked_string_2 = re.sub('\\_+',' ***mask*** ',masked_string_2,1)\n",
    "                options_2 = [split[1] for split in split_list if (split[0] == choice_1)]\n",
    "                ranked_options_2 = fb.rank(masked_string_2, options=options_2)\n",
    "                choice_2 = ' ' if (ranked_options_2[0] == '') else ranked_options_2[0]\n",
    "                final_split = [choice_1,choice_2]\n",
    "                model_choice = choice_list[split_list.index(final_split)]\n",
    "\n",
    "            elif len(row['A'].split(';')) == 3:\n",
    "                split_list = [[ans_parse(i) for i in row[choice].split(';')] for choice in choice_list]\n",
    "                masked_string_1 = re.sub('\\_+',' ***mask*** ',question_original,1)\n",
    "                options_1 = list(set( [split[0] for split in split_list] ))\n",
    "                ranked_options_1 = fb.rank(masked_string_1, options=options_1)\n",
    "                choice_1 = ' ' if (ranked_options_1[0] == '') else ranked_options_1[0]\n",
    "\n",
    "                masked_string_2 = fb.fitb(masked_string_1, options=options_1)\n",
    "                masked_string_2 = re.sub('\\_+',' ***mask*** ',masked_string_2,1)\n",
    "                options_2 = [split[1] for split in split_list if (split[0] == choice_1)]\n",
    "                ranked_options_2 = fb.rank(masked_string_2, options=options_2)\n",
    "                choice_2 = ' ' if (ranked_options_2[0] == '') else ranked_options_2[0]\n",
    "\n",
    "                masked_string_3 = fb.fitb(masked_string_2, options=options_2)\n",
    "                masked_string_3 = re.sub('\\_+',' ***mask*** ',masked_string_3,1)\n",
    "                options_3 = [split[2] for split in split_list if ((split[0] == choice_1)&(split[1] == choice_2)) ]\n",
    "                ranked_options_3 = fb.rank(masked_string_3, options=options_3)\n",
    "                choice_3 = ' ' if (ranked_options_3[0] == '') else ranked_options_3[0]\n",
    "                final_split = [choice_1,choice_2,choice_3]\n",
    "                model_choice = choice_list[split_list.index(final_split)]\n",
    "        except:\n",
    "            print(question_original)\n",
    "            continue\n",
    "\n",
    "    else:\n",
    "        masked_string = re.sub('\\_+',' ***mask*** ',question_original)\n",
    "        options = [ans_parse(row['A']), ans_parse(row['B']),ans_parse(row['C']),ans_parse(row['D'])]\n",
    "        try:\n",
    "            ranked_options = fb.rank(masked_string, options=options)\n",
    "        except:\n",
    "            print(question_original, options)\n",
    "            continue\n",
    "        try:\n",
    "            if ranked_options[0] == '':\n",
    "                model_choice = choice_list[options.index(' ')]\n",
    "            else:\n",
    "                model_choice = choice_list[options.index(ranked_options[0])]\n",
    "        except:\n",
    "            print(masked_string,options,ranked_options)\n",
    "\n",
    "\n",
    "    model_ans_list.append(model_choice)\n",
    "    if (model_choice == row['Answer'].strip()):\n",
    "        model_score_list.append(1)\n",
    "    else: \n",
    "        model_score_list.append(0)\n",
    "\n",
    "(np.array(model_score_list).sum()/len(model_score_list))"
   ]
  },
  {
   "cell_type": "code",
   "execution_count": null,
   "metadata": {},
   "outputs": [],
   "source": []
  }
 ]
}